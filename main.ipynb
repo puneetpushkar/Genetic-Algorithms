{
  "nbformat": 4,
  "nbformat_minor": 0,
  "metadata": {
    "colab": {
      "name": "main.ipynb",
      "private_outputs": true,
      "provenance": []
    },
    "kernelspec": {
      "name": "python3",
      "display_name": "Python 3"
    },
    "language_info": {
      "name": "python"
    }
  },
  "cells": [
    {
      "cell_type": "code",
      "source": [
        "!pip install tpot"
      ],
      "metadata": {
        "id": "VL8L55sqz29L"
      },
      "execution_count": null,
      "outputs": []
    },
    {
      "cell_type": "code",
      "source": [
        "import numpy as np \n",
        "import pandas as pd \n",
        "from sklearn import preprocessing \n",
        "from sklearn.metrics import mean_squared_error\n",
        "from tpot import TPOTRegressor\n",
        "from sklearn.model_selection import train_test_split \n",
        "import xgboost"
      ],
      "metadata": {
        "id": "tkHFttv005Hi"
      },
      "execution_count": null,
      "outputs": []
    },
    {
      "cell_type": "code",
      "source": [
        "train =  pd.read_csv('train.csv')\n",
        "test  =  pd.read_csv('test.csv')"
      ],
      "metadata": {
        "id": "CvOXQjy407xD"
      },
      "execution_count": null,
      "outputs": []
    },
    {
      "cell_type": "code",
      "source": [
        "print(train.head())"
      ],
      "metadata": {
        "id": "Yc75kIRG08Al"
      },
      "execution_count": null,
      "outputs": []
    },
    {
      "cell_type": "code",
      "source": [
        "print(train.columns)"
      ],
      "metadata": {
        "id": "mdE5BYw31TrO"
      },
      "execution_count": null,
      "outputs": []
    },
    {
      "cell_type": "code",
      "source": [
        "train['Item_Weight'].fillna((train['Item_Weight'].mean()), inplace=True)\n",
        "test['Item_Weight'].fillna((test['Item_Weight'].mean()), inplace=True)"
      ],
      "metadata": {
        "id": "Z6d9DC0a0_16"
      },
      "execution_count": null,
      "outputs": []
    },
    {
      "cell_type": "code",
      "source": [
        "train['Outlet_Establishment_Year'] = 2013 - train['Outlet_Establishment_Year'] \n",
        "test['Outlet_Establishment_Year'] = 2013 - test['Outlet_Establishment_Year'] "
      ],
      "metadata": {
        "id": "tRR1sA0s1C1I"
      },
      "execution_count": null,
      "outputs": []
    },
    {
      "cell_type": "code",
      "source": [
        "train['Item_Visibility'] = np.sqrt(train['Item_Visibility'])\n",
        "test['Item_Visibility'] = np.sqrt(test['Item_Visibility'])"
      ],
      "metadata": {
        "id": "mW52MsJw1C3y"
      },
      "execution_count": null,
      "outputs": []
    },
    {
      "cell_type": "code",
      "source": [
        "test.drop('Item_Outlet_Sales',axis=1,inplace=True)\n",
        "\n",
        "target = train['Item_Outlet_Sales']\n",
        "train.drop('Item_Outlet_Sales',axis=1,inplace=True)"
      ],
      "metadata": {
        "id": "ar4y39l91C5x"
      },
      "execution_count": null,
      "outputs": []
    },
    {
      "cell_type": "code",
      "source": [
        "train = train[:100]\n",
        "target = target[:100]"
      ],
      "metadata": {
        "id": "9jrxsruq1C9Y"
      },
      "execution_count": null,
      "outputs": []
    },
    {
      "cell_type": "code",
      "source": [
        "X_train, X_test, y_train, y_test = train_test_split(train, target,\n",
        " train_size=0.75, test_size=0.25)"
      ],
      "metadata": {
        "id": "_OB-jQE31K3u"
      },
      "execution_count": null,
      "outputs": []
    },
    {
      "cell_type": "code",
      "source": [
        "tpot = TPOTRegressor(generations=2, population_size=50, verbosity=2)\n",
        "tpot.fit(X_train, y_train)\n",
        "print(tpot.score(X_test, y_test))\n",
        "tpot.export('tpot_boston_pipeline.py')"
      ],
      "metadata": {
        "id": "KSjjjmug1Lvu"
      },
      "execution_count": null,
      "outputs": []
    },
    {
      "cell_type": "code",
      "source": [
        ""
      ],
      "metadata": {
        "id": "fyNqP3KH1K9S"
      },
      "execution_count": null,
      "outputs": []
    }
  ]
}